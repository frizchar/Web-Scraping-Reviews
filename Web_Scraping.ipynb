{
  "nbformat": 4,
  "nbformat_minor": 0,
  "metadata": {
    "colab": {
      "name": "Web Scraping.ipynb",
      "provenance": [],
      "collapsed_sections": [],
      "authorship_tag": "ABX9TyO+dIHdbS/gaCC1sZu7MMOm",
      "include_colab_link": true
    },
    "kernelspec": {
      "name": "python3",
      "display_name": "Python 3"
    },
    "language_info": {
      "name": "python"
    }
  },
  "cells": [
    {
      "cell_type": "markdown",
      "metadata": {
        "id": "view-in-github",
        "colab_type": "text"
      },
      "source": [
        "<a href=\"https://colab.research.google.com/github/frizchar/Web-Scraping-Reviews/blob/main/Web_Scraping.ipynb\" target=\"_parent\"><img src=\"https://colab.research.google.com/assets/colab-badge.svg\" alt=\"Open In Colab\"/></a>"
      ]
    },
    {
      "cell_type": "markdown",
      "metadata": {
        "id": "tiDVug9pVhlv"
      },
      "source": [
        "# Collect Reviews on Yelp"
      ]
    },
    {
      "cell_type": "code",
      "metadata": {
        "id": "PtgwxExe9gI0"
      },
      "source": [
        "import requests\n",
        "from bs4 import BeautifulSoup\n",
        "import re"
      ],
      "execution_count": 1,
      "outputs": []
    },
    {
      "cell_type": "code",
      "metadata": {
        "id": "IKPjK_M3ArqS"
      },
      "source": [
        "r = requests.get('https://www.yelp.com/biz/tesla-san-francisco?osq=Tesla+Dealership')\n",
        "soup = BeautifulSoup(r.text, 'html.parser')\n",
        "regex = re.compile('.*comment.*')\n",
        "results = soup.find_all('p', {'class':regex})\n",
        "reviews = [result.text for result in results]"
      ],
      "execution_count": 2,
      "outputs": []
    },
    {
      "cell_type": "code",
      "metadata": {
        "colab": {
          "base_uri": "https://localhost:8080/"
        },
        "id": "FTNVSoT2xTSS",
        "outputId": "1bfb9915-76f1-4c52-8a3d-4ea982af7fdf"
      },
      "source": [
        "reviews"
      ],
      "execution_count": 3,
      "outputs": [
        {
          "output_type": "execute_result",
          "data": {
            "text/plain": [
              "['Dear dad can you buy me a Tesla to drive at grad school!',\n",
              " \"I ended up filing a complaint against them with the California Bureau of Automotive Repair for not refunding me for replacement parts that weren't actually required to repair my car and didn't fix my issues.Sigh. Tesla keeps letting me down with post-warranty support.Time for a new car anyway-- It's not gonna be a Tesla.\",\n",
              " \"Typically I go to the Tesla Berkeley service center, but I needed a faster appointment window. Also, I was curious to see the SF location. So I booked the appointment through the proprietary Tesla app and the day of appointment, arrived exactly at 8:45am. I was greeted promptly and told to wait for my service advisor, Melissa. A few minutes went by and Melissa approached my vehicle to review the reported issues. In addition to a brake fluid flush and wheel alignment adjustment, I also reported a clicking noise behind the dashboard. Melissa understood the issues reported and was able to add my notes for the technicians. She notified me that I would receive Uber credit to use for the afternoon. While the credits took about an hour (understandable due to their work load), I did receive up to $100 in available Uber credit. Throughout the afternoon there was communication through the app and I was notified the vehicle would be complete between 4:15pm and 4:45pm. I arrived back at the service center at 4:15pm and the job WAS completed by 4:45pm. Melissa went over the work completed, and was honest about the time spent on my car. The final cost was less than the initial estimate and she was able to goodwill some of the costs. Overall, I'm satisfied with the experience and outcome. Thanks Melissa and Tesla SF team!\",\n",
              " 'Horrible customer service:1) Placed order via App for AP 3.0 upgrade and MCU upgrade, after talking to service person who said my issues with slow boots/multiple restarts require upgrades... on my Model S with fewer than 20K miles. \\xa0They called to say they didn\\'t have the hardware for either and wouldn\\'t get it in stock, and I should try Redwood City.2) I shift order to Redwood City. \\xa0Redwood City tells me to try VanNess for this service.3) I order again for VanNess. \\xa0This time it\\'s confirmed. \\xa0Appointment for Friday 8:15AM dropoff. \\xa0I\\'m waiting in my car at the lot when they text me to advise me they didn\\'t order the part and needed to cancel my appointment. \\xa0They took ZERO effort to advise of this until the day of the service. \\xa0I throw a fit and they magically find the part for AP 3.0 and agree to do that upgrade, but say they never had record of MCU upgrade so I need to schedule that again. \\xa0I ask and they say AP 3.0 is a unit swap and same day, we schedule it for two weeks out as they said they need 2 weeks to get the part.4) I go to pick up my car the next day, and find that they\\'ve DRIVEN MY CAR INTO ANOTHER CAR\\'S LICENSE PLATE scratching my car. \\xa0The service person was entirely unapologetic about this.5) I manage to get to the day before my appointment two weeks out, and call to confirm the service window. \\xa0THIS TIME they advise that \"I\\'ve seen the retrofit take up to several days due to firmware\" and I should reschedule my appointment if I am not comfortable with that. \\xa0Tesla Service is absolutely horrible and to be avoided at all costs!',\n",
              " \"Today was delivery day and we were pretty excited to collect our car. When we arrived we proceeded upstairs where the magic happens. Jessica H. and Alex were both helping other customers and we were third in line. Even though we waited less than 15 minutes we were told they'd be with us promptly and they thanked us for our patience and for waiting. They made us feel valued and the time passed quickly. When it was our turn, Jessica explained the process, walked us through the documents she'd prepared in advance of our arrival (and even colour coded to make everything both easy and efficient), and explained to us what to expect. The place was spotless. We saw the staff wearing masks, cleaning surfaces and office supplies after every use and they even had separate cups for clean versus dirty pens. These folks have this down to a science. Our car was ready for us and Alex gave us a mini-tutorial, asked if we needed help and was prepared to answer questions even though we had none. He addressed one of our concerns and as we finished up, Jessica stepped-in to help get us on our way. Jessica and Alex were really very helpful and kind. We were struck with their efficiency, how quickly they worked together to move between customers and how gracious and empathetic they were with us and everyone we saw them interact with during our visit. Five star service for sure. A special note: Jessica H. obviously has a talent for service. She was attentive, involved and compassionate with all the customers she assisted today. She should be commended for the finesse with which she juggles customers and to-dos.We loved the experience today and it elevated the brand in our eyes and affirmed the reason we chose to own a Tesla.\",\n",
              " \"If you're going to buy a Tesla, I would recommend contacting Sam Slavis and buying it from here. Sam is really helpful, knowledgeable, and will listen to your concerns. Stay away from Fremont Tesla. The people over there are terrible.\",\n",
              " \"TERRIBLE customer services. The guy name CK in the front, have no idea about customer service. I have received better service from McDonald than from this guy! This guy is not welcoming and just pure RUDE!!!!It's bad enough that I have to come back multiple times to have the same problem fixed. Coupled with bad customer service. I'm just speechless.Service department is supposed to fix problem, but this guy create more headaches for customers!!I LOVE Tesla, Love Elon, why would you guys hire CK and put him in the front???\",\n",
              " 'I recently brought a brand new Tesla to fix some post delivery defects I noticed. The shop ended repainting my quarter panel, trunk and doors without letting me know that was what they were goi to do. This a a brand new $100k car with 600miles! If they had properly repainted the car I may not have notice, but the work was so horrible the color did not match, there was paring overspray all over, my black moldings was painted not protected and now has white paint on it! This TESLA shop took off a factory paint job to only put back on aftermarket paint that is not a 100% perfect. I can clearly see a rush job with overspray, sanding marks, and different shades of color. They completed butcher this brand new car! DO NOT Let TSC OF San Francisco do any body work if you expect a like new finish! You will regret it!!!',\n",
              " \"The service center here is TERRIBLE. I had a tire that needed to be patched and the target time of 10:30am passed with zero updates. I tried texting back, calling, emailing, logging onto the website to chat per the instructions on their voicemail (there was no chat function available) and it was a black hole with no one picking up the phone. I finally called Sales and was simply transferred to the number that NO ONE was picking up over the course of 3 hours. The second time I called Sales and explained the issue they walked over to talk to someone in Service and I finally got a call back saying my car would be ready at 2pm at the latest. I showed up at 2:30pm and my car was. not. ready. I raised the issue when I was there and they simply said the text service must be down. Yeah, I know because I told my service rep that I had texted him back and he said he didn't get it and said the same thing but what are you going to do to fix/escalate it?? Nothing was done about it. Service was a sh*t show, DON'T COM. On top of this, they changed the service that was agreed without telling me, and only informed me when I paid. Four days later and Corporate still hasn't responded to my original messages. Extremely disappointed in Tesla. Made me realize that you are paying $$$ money without the equivalent service you would expect from any other established dealership and questioning whether I should be a Tesla owner.\",\n",
              " \"The service center here is TERRIBLE. I had a tire that needed to be patched and the target time of 10:30am passed with zero updates. I tried texting back, calling, emailing, logging onto the website to chat per the instructions on their voicemail (there was no chat function available) and it was a black hole with no one picking up the phone. I finally called Sales and was simply transferred to the number that NO ONE was picking up over the course of 3 hours. The second time I called Sales and explained the issue they walked over to talk to someone in Service and I finally got a call back saying my car would be ready at 2pm at the latest. I showed up at 2:30pm and my car was. not. ready. I raised the issue when I was there and they simply said the text service must be down. Yeah, I know because I told my service rep that I had texted him back and he said he didn't get it and said the same thing but what are you going to do to fix/escalate it?? Nothing was done about it. Service was a sh*t show, DON'T COME HERE. On top of this, they changed the service that was agreed without telling me, and only informed me when I paid. Four days later and Corporate still hasn't responded to my original messages. Extremely disappointed in Tesla. Made me realize that you are paying $$$ money without the equivalent service you would expect from any other established dealership and questioning whether I should be a Tesla owner. If you have a similar issue, I was informed that you can file with the Bureau of Automotive Repair bar.ca.gov/Consumer/Auto…. Maybe this will encourage Tesla to get their act together.\",\n",
              " \"Unfortunately, as a recent new Tesla owner, I have to agree with the majority of experiences about the non-existent level of 'service' in this location. You'll get better service with a $5k second hand Honda from 'Discount Al's Auto Shop' \\xa0than any new car sold here.Service center employees are full of attitude, defensive and unhelpful. That's when they actually pick up the phone 1% of the time. No interest in helping with issues, their go-to agenda is to:- tell owners the problem doesn't exist, [because they can't replicate it], - to just 'go reset', that 'a future update will solve this' [not like they can tell me when the update is, or if it even exists].- 'make another appointment in the app for the same problem'It's like this place hired a bunch fired 'customer service' people from Comcast or Ticketmaster, then told them to be even less helpful and unresponsive.Haven't bothered to check on Linkedin who might be the escalation point for this lousy shambles & excuse for anything but 'service' but frankly they should probably be looking for a new job right now.\"]"
            ]
          },
          "metadata": {},
          "execution_count": 3
        }
      ]
    },
    {
      "cell_type": "code",
      "metadata": {
        "id": "3XzT9USOnjnt"
      },
      "source": [
        "import pandas as pd\n",
        "import numpy as np"
      ],
      "execution_count": 4,
      "outputs": []
    },
    {
      "cell_type": "code",
      "metadata": {
        "colab": {
          "base_uri": "https://localhost:8080/",
          "height": 206
        },
        "id": "o5KxGXMtoI3_",
        "outputId": "1f666746-737a-4112-c51c-378aff47ab88"
      },
      "source": [
        "df = pd.DataFrame(np.array(reviews), columns=['review'])\n",
        "df.head()"
      ],
      "execution_count": 5,
      "outputs": [
        {
          "output_type": "execute_result",
          "data": {
            "text/html": [
              "<div>\n",
              "<style scoped>\n",
              "    .dataframe tbody tr th:only-of-type {\n",
              "        vertical-align: middle;\n",
              "    }\n",
              "\n",
              "    .dataframe tbody tr th {\n",
              "        vertical-align: top;\n",
              "    }\n",
              "\n",
              "    .dataframe thead th {\n",
              "        text-align: right;\n",
              "    }\n",
              "</style>\n",
              "<table border=\"1\" class=\"dataframe\">\n",
              "  <thead>\n",
              "    <tr style=\"text-align: right;\">\n",
              "      <th></th>\n",
              "      <th>review</th>\n",
              "    </tr>\n",
              "  </thead>\n",
              "  <tbody>\n",
              "    <tr>\n",
              "      <th>0</th>\n",
              "      <td>Dear dad can you buy me a Tesla to drive at gr...</td>\n",
              "    </tr>\n",
              "    <tr>\n",
              "      <th>1</th>\n",
              "      <td>I ended up filing a complaint against them wit...</td>\n",
              "    </tr>\n",
              "    <tr>\n",
              "      <th>2</th>\n",
              "      <td>Typically I go to the Tesla Berkeley service c...</td>\n",
              "    </tr>\n",
              "    <tr>\n",
              "      <th>3</th>\n",
              "      <td>Horrible customer service:1) Placed order via ...</td>\n",
              "    </tr>\n",
              "    <tr>\n",
              "      <th>4</th>\n",
              "      <td>Today was delivery day and we were pretty exci...</td>\n",
              "    </tr>\n",
              "  </tbody>\n",
              "</table>\n",
              "</div>"
            ],
            "text/plain": [
              "                                              review\n",
              "0  Dear dad can you buy me a Tesla to drive at gr...\n",
              "1  I ended up filing a complaint against them wit...\n",
              "2  Typically I go to the Tesla Berkeley service c...\n",
              "3  Horrible customer service:1) Placed order via ...\n",
              "4  Today was delivery day and we were pretty exci..."
            ]
          },
          "metadata": {},
          "execution_count": 5
        }
      ]
    }
  ]
}